{
 "cells": [
  {
   "cell_type": "code",
   "execution_count": 1,
   "id": "ba0d9ee1",
   "metadata": {},
   "outputs": [],
   "source": [
    "import sagemaker"
   ]
  },
  {
   "cell_type": "code",
   "execution_count": 69,
   "id": "09993127",
   "metadata": {},
   "outputs": [],
   "source": [
    "import boto3\n",
    "from sagemaker.amazon.amazon_estimator import get_image_uri\n",
    "from sagemaker.session import s3_input, Session\n",
    "from sagemaker import image_uris"
   ]
  },
  {
   "cell_type": "code",
   "execution_count": 38,
   "id": "aa52ed57",
   "metadata": {},
   "outputs": [
    {
     "name": "stdout",
     "output_type": "stream",
     "text": [
      "eu-north-1\n"
     ]
    }
   ],
   "source": [
    "bucket_name=\"app-1090\"\n",
    "my_region = boto3.session.Session().region_name\n",
    "print(my_region)"
   ]
  },
  {
   "cell_type": "code",
   "execution_count": 39,
   "id": "5bb44fec",
   "metadata": {},
   "outputs": [
    {
     "name": "stdout",
     "output_type": "stream",
     "text": [
      "s3 bucket created successfully!\n"
     ]
    }
   ],
   "source": [
    "s3 = boto3.resource(\"s3\")\n",
    "try:\n",
    "    if my_region ==\"eu-north-1\":\n",
    "         s3.create_bucket(Bucket=\"app-1090\",CreateBucketConfiguration={'LocationConstraint':'eu-north-1'})\n",
    "    print(\"s3 bucket created successfully!\")\n",
    "except Exception as e:\n",
    "    print(\"S3 error\",e)\n",
    "        "
   ]
  },
  {
   "cell_type": "code",
   "execution_count": 41,
   "id": "dc863d27",
   "metadata": {},
   "outputs": [
    {
     "name": "stdout",
     "output_type": "stream",
     "text": [
      "s3://app-1090/xgboost-as-a-built-in-algo/output\n"
     ]
    }
   ],
   "source": [
    "# set an output path where the trained model will be saved\n",
    "prefix = 'xgboost-as-a-built-in-algo'\n",
    "output_path ='s3://{}/{}/output'.format(\"app-1090\", prefix)\n",
    "print(output_path)"
   ]
  },
  {
   "cell_type": "code",
   "execution_count": 42,
   "id": "01e4ec77",
   "metadata": {},
   "outputs": [
    {
     "name": "stdout",
     "output_type": "stream",
     "text": [
      "Success: downloaded bank_clean.csv.\n",
      "Success: Data loaded into dataframe.\n"
     ]
    }
   ],
   "source": [
    "import pandas as pd\n",
    "import urllib\n",
    "try:\n",
    "    urllib.request.urlretrieve (\"https://d1.awsstatic.com/tmt/build-train-deploy-machine-learning-model-sagemaker/bank_clean.27f01fbbdf43271788427f3682996ae29ceca05d.csv\", \"bank_clean.csv\")\n",
    "    print('Success: downloaded bank_clean.csv.')\n",
    "except Exception as e:\n",
    "    print('Data load error: ',e)\n",
    "\n",
    "try:\n",
    "    model_data = pd.read_csv('./bank_clean.csv',index_col=0)\n",
    "    print('Success: Data loaded into dataframe.')\n",
    "except Exception as e:\n",
    "    print('Data load error: ',e)\n",
    "     "
   ]
  },
  {
   "cell_type": "code",
   "execution_count": 43,
   "id": "e12261c5",
   "metadata": {},
   "outputs": [
    {
     "name": "stdout",
     "output_type": "stream",
     "text": [
      "(28831, 61) (12357, 61)\n"
     ]
    }
   ],
   "source": [
    "import numpy as np\n",
    "train_data, test_data =np.split(model_data.sample(frac=1,random_state=1729),[int(0.7 * len(model_data))])\n",
    "print(train_data.shape,test_data.shape)"
   ]
  },
  {
   "cell_type": "code",
   "execution_count": 50,
   "id": "fdbd6562",
   "metadata": {},
   "outputs": [],
   "source": [
    "### Saving Train And Test Into Buckets\n",
    "## We start with Train Data\n",
    "import os\n",
    "pd.concat([train_data['y_yes'], train_data.drop(['y_no', 'y_yes'], \n",
    "                                                axis=1)], \n",
    "                                                axis=1).to_csv('train.csv', index=False, header=False)\n",
    "boto3.Session().resource('s3').Bucket(\"app-1090\").Object(os.path.join(prefix, 'train/train.csv')).upload_file('train.csv')\n",
    "s3_input_train = sagemaker.TrainingInput(s3_data='s3://{}/{}/train'.format(\"app-1090\", prefix), content_type='csv')"
   ]
  },
  {
   "cell_type": "code",
   "execution_count": 53,
   "id": "dbbad5a8",
   "metadata": {},
   "outputs": [],
   "source": [
    "# Test Data Into Buckets\n",
    "pd.concat([test_data['y_yes'], test_data.drop(['y_no', 'y_yes'], axis=1)], axis=1).to_csv('test.csv', index=False, header=False)\n",
    "boto3.Session().resource('s3').Bucket(\"app-1090\").Object(os.path.join(prefix, 'test/test.csv')).upload_file('test.csv')\n",
    "s3_input_test = sagemaker.TrainingInput(s3_data='s3://{}/{}/test'.format(\"app-1090\", prefix), content_type='csv')"
   ]
  },
  {
   "cell_type": "markdown",
   "id": "a914e638",
   "metadata": {},
   "source": [
    "# building the model"
   ]
  },
  {
   "cell_type": "code",
   "execution_count": null,
   "id": "4b3cebef",
   "metadata": {},
   "outputs": [],
   "source": [
    "# this line automatically looks for the XGBoost image URI and builds an XGBoost container.\n",
    "# specify the repo_version depending on your preference.\n",
    "container = image_uris.retrieve(region=boto3.Session().region_name, framework='xgboost', version='1.0-1')"
   ]
  },
  {
   "cell_type": "code",
   "execution_count": null,
   "id": "21d9d8ca",
   "metadata": {},
   "outputs": [],
   "source": [
    "# initialize hyperparameters\n",
    "hyperparameters = {\n",
    "        \"max_depth\":\"5\",\n",
    "        \"eta\":\"0.2\",\n",
    "        \"gamma\":\"4\",\n",
    "        \"min_child_weight\":\"6\",\n",
    "        \"subsample\":\"0.7\",\n",
    "        \"objective\":\"binary:logistic\",\n",
    "        \"num_round\":50\n",
    "        }"
   ]
  },
  {
   "cell_type": "code",
   "execution_count": 76,
   "id": "a03f8bc7",
   "metadata": {},
   "outputs": [
    {
     "name": "stderr",
     "output_type": "stream",
     "text": [
      "INFO:sagemaker.image_uris:Ignoring unnecessary instance type: None.\n",
      "WARNING:sagemaker.interactive_apps.base_interactive_app:NOTEBOOK_METADATA_FILE detected but failed to get valid domain and user from it.\n"
     ]
    }
   ],
   "source": [
    "from sagemaker import image_uris\n",
    "container = sagemaker.image_uris.retrieve(\"xgboost\", boto3.Session().region_name,version =\"latest\")\n",
    "\n",
    "\n",
    "estimator = sagemaker.estimator.Estimator(image_uri=container,\n",
    "                                          hyperparameters=hyperparameters,\n",
    "                                          role=sagemaker.get_execution_role(),\n",
    "                                          instance_type = 'ml.m5.2xlarge',\n",
    "                                          instance_count= 1,\n",
    "                                          volume_size = 5,\n",
    "                                          output_path=output_path,\n",
    "                                           use_spot_instances=True,\n",
    "                                           max_run=300,\n",
    "                                           max_wait= 600)\n",
    "\n"
   ]
  },
  {
   "cell_type": "code",
   "execution_count": 77,
   "id": "a3c439d3",
   "metadata": {},
   "outputs": [
    {
     "name": "stderr",
     "output_type": "stream",
     "text": [
      "INFO:sagemaker:Creating training-job with name: xgboost-2023-09-22-08-10-23-112\n"
     ]
    },
    {
     "name": "stdout",
     "output_type": "stream",
     "text": [
      "2023-09-22 08:10:23 Starting - Starting the training job...\n",
      "2023-09-22 08:10:40 Starting - Preparing the instances for training......\n",
      "2023-09-22 08:11:38 Downloading - Downloading input data...\n",
      "2023-09-22 08:12:13 Training - Training image download completed. Training in progress....\n",
      "2023-09-22 08:12:44 Uploading - Uploading generated training model\u001b[34mArguments: train\u001b[0m\n",
      "\u001b[34m[2023-09-22:08:12:35:INFO] Running standalone xgboost training.\u001b[0m\n",
      "\u001b[34m[2023-09-22:08:12:35:INFO] File size need to be processed in the node: 2.9mb. Available memory size in the node: 23947.08mb\u001b[0m\n",
      "\u001b[34m[2023-09-22:08:12:35:INFO] Determined delimiter of CSV input is ','\u001b[0m\n",
      "\u001b[34m[08:12:35] S3DistributionType set as FullyReplicated\u001b[0m\n",
      "\u001b[34m[08:12:35] 12357x59 matrix with 729063 entries loaded from /opt/ml/input/data/train?format=csv&label_column=0&delimiter=,\u001b[0m\n",
      "\u001b[34m[2023-09-22:08:12:35:INFO] Determined delimiter of CSV input is ','\u001b[0m\n",
      "\u001b[34m[08:12:35] S3DistributionType set as FullyReplicated\u001b[0m\n",
      "\u001b[34m[08:12:35] 12357x59 matrix with 729063 entries loaded from /opt/ml/input/data/validation?format=csv&label_column=0&delimiter=,\u001b[0m\n",
      "\u001b[34m[08:12:35] src/tree/updater_prune.cc:74: tree pruning end, 1 roots, 18 extra nodes, 18 pruned nodes, max_depth=5\u001b[0m\n",
      "\u001b[34m[0]#011train-error:0.101805#011validation-error:0.101805\u001b[0m\n",
      "\u001b[34m[08:12:35] src/tree/updater_prune.cc:74: tree pruning end, 1 roots, 14 extra nodes, 18 pruned nodes, max_depth=5\u001b[0m\n",
      "\u001b[34m[1]#011train-error:0.101805#011validation-error:0.101805\u001b[0m\n",
      "\u001b[34m[08:12:35] src/tree/updater_prune.cc:74: tree pruning end, 1 roots, 18 extra nodes, 16 pruned nodes, max_depth=5\u001b[0m\n",
      "\u001b[34m[2]#011train-error:0.101238#011validation-error:0.101238\u001b[0m\n",
      "\u001b[34m[08:12:35] src/tree/updater_prune.cc:74: tree pruning end, 1 roots, 18 extra nodes, 18 pruned nodes, max_depth=5\u001b[0m\n",
      "\u001b[34m[3]#011train-error:0.101238#011validation-error:0.101238\u001b[0m\n",
      "\u001b[34m[08:12:35] src/tree/updater_prune.cc:74: tree pruning end, 1 roots, 18 extra nodes, 16 pruned nodes, max_depth=5\u001b[0m\n",
      "\u001b[34m[4]#011train-error:0.101886#011validation-error:0.101886\u001b[0m\n",
      "\u001b[34m[08:12:35] src/tree/updater_prune.cc:74: tree pruning end, 1 roots, 24 extra nodes, 10 pruned nodes, max_depth=5\u001b[0m\n",
      "\u001b[34m[5]#011train-error:0.101319#011validation-error:0.101319\u001b[0m\n",
      "\u001b[34m[08:12:35] src/tree/updater_prune.cc:74: tree pruning end, 1 roots, 22 extra nodes, 8 pruned nodes, max_depth=5\u001b[0m\n",
      "\u001b[34m[6]#011train-error:0.100834#011validation-error:0.100834\u001b[0m\n",
      "\u001b[34m[08:12:35] src/tree/updater_prune.cc:74: tree pruning end, 1 roots, 20 extra nodes, 18 pruned nodes, max_depth=5\u001b[0m\n",
      "\u001b[34m[7]#011train-error:0.101076#011validation-error:0.101076\u001b[0m\n",
      "\u001b[34m[08:12:35] src/tree/updater_prune.cc:74: tree pruning end, 1 roots, 26 extra nodes, 18 pruned nodes, max_depth=5\u001b[0m\n",
      "\u001b[34m[8]#011train-error:0.1014#011validation-error:0.1014\u001b[0m\n",
      "\u001b[34m[08:12:35] src/tree/updater_prune.cc:74: tree pruning end, 1 roots, 18 extra nodes, 18 pruned nodes, max_depth=5\u001b[0m\n",
      "\u001b[34m[9]#011train-error:0.1014#011validation-error:0.1014\u001b[0m\n",
      "\u001b[34m[08:12:35] src/tree/updater_prune.cc:74: tree pruning end, 1 roots, 12 extra nodes, 10 pruned nodes, max_depth=5\u001b[0m\n",
      "\u001b[34m[10]#011train-error:0.101076#011validation-error:0.101076\u001b[0m\n",
      "\u001b[34m[08:12:35] src/tree/updater_prune.cc:74: tree pruning end, 1 roots, 22 extra nodes, 18 pruned nodes, max_depth=5\u001b[0m\n",
      "\u001b[34m[11]#011train-error:0.100914#011validation-error:0.100914\u001b[0m\n",
      "\u001b[34m[08:12:35] src/tree/updater_prune.cc:74: tree pruning end, 1 roots, 32 extra nodes, 18 pruned nodes, max_depth=5\u001b[0m\n",
      "\u001b[34m[12]#011train-error:0.100834#011validation-error:0.100834\u001b[0m\n",
      "\u001b[34m[08:12:35] src/tree/updater_prune.cc:74: tree pruning end, 1 roots, 16 extra nodes, 28 pruned nodes, max_depth=5\u001b[0m\n",
      "\u001b[34m[13]#011train-error:0.101076#011validation-error:0.101076\u001b[0m\n",
      "\u001b[34m[08:12:35] src/tree/updater_prune.cc:74: tree pruning end, 1 roots, 18 extra nodes, 12 pruned nodes, max_depth=5\u001b[0m\n",
      "\u001b[34m[14]#011train-error:0.100914#011validation-error:0.100914\u001b[0m\n",
      "\u001b[34m[08:12:35] src/tree/updater_prune.cc:74: tree pruning end, 1 roots, 20 extra nodes, 22 pruned nodes, max_depth=5\u001b[0m\n",
      "\u001b[34m[15]#011train-error:0.100995#011validation-error:0.100995\u001b[0m\n",
      "\u001b[34m[08:12:35] src/tree/updater_prune.cc:74: tree pruning end, 1 roots, 24 extra nodes, 18 pruned nodes, max_depth=5\u001b[0m\n",
      "\u001b[34m[16]#011train-error:0.100591#011validation-error:0.100591\u001b[0m\n",
      "\u001b[34m[08:12:35] src/tree/updater_prune.cc:74: tree pruning end, 1 roots, 16 extra nodes, 10 pruned nodes, max_depth=5\u001b[0m\n",
      "\u001b[34m[17]#011train-error:0.099943#011validation-error:0.099943\u001b[0m\n",
      "\u001b[34m[08:12:35] src/tree/updater_prune.cc:74: tree pruning end, 1 roots, 22 extra nodes, 12 pruned nodes, max_depth=5\u001b[0m\n",
      "\u001b[34m[18]#011train-error:0.099943#011validation-error:0.099943\u001b[0m\n",
      "\u001b[34m[08:12:35] src/tree/updater_prune.cc:74: tree pruning end, 1 roots, 26 extra nodes, 6 pruned nodes, max_depth=5\u001b[0m\n",
      "\u001b[34m[19]#011train-error:0.100024#011validation-error:0.100024\u001b[0m\n",
      "\u001b[34m[08:12:35] src/tree/updater_prune.cc:74: tree pruning end, 1 roots, 16 extra nodes, 28 pruned nodes, max_depth=5\u001b[0m\n",
      "\u001b[34m[20]#011train-error:0.100024#011validation-error:0.100024\u001b[0m\n",
      "\u001b[34m[08:12:35] src/tree/updater_prune.cc:74: tree pruning end, 1 roots, 22 extra nodes, 10 pruned nodes, max_depth=5\u001b[0m\n",
      "\u001b[34m[21]#011train-error:0.100186#011validation-error:0.100186\u001b[0m\n",
      "\u001b[34m[08:12:35] src/tree/updater_prune.cc:74: tree pruning end, 1 roots, 0 extra nodes, 36 pruned nodes, max_depth=0\u001b[0m\n",
      "\u001b[34m[22]#011train-error:0.100186#011validation-error:0.100186\u001b[0m\n",
      "\u001b[34m[08:12:35] src/tree/updater_prune.cc:74: tree pruning end, 1 roots, 14 extra nodes, 14 pruned nodes, max_depth=5\u001b[0m\n",
      "\u001b[34m[23]#011train-error:0.100024#011validation-error:0.100024\u001b[0m\n",
      "\u001b[34m[08:12:35] src/tree/updater_prune.cc:74: tree pruning end, 1 roots, 4 extra nodes, 30 pruned nodes, max_depth=2\u001b[0m\n",
      "\u001b[34m[24]#011train-error:0.100105#011validation-error:0.100105\u001b[0m\n",
      "\u001b[34m[08:12:35] src/tree/updater_prune.cc:74: tree pruning end, 1 roots, 10 extra nodes, 10 pruned nodes, max_depth=4\u001b[0m\n",
      "\u001b[34m[25]#011train-error:0.099943#011validation-error:0.099943\u001b[0m\n",
      "\u001b[34m[08:12:35] src/tree/updater_prune.cc:74: tree pruning end, 1 roots, 24 extra nodes, 24 pruned nodes, max_depth=5\u001b[0m\n",
      "\u001b[34m[26]#011train-error:0.100186#011validation-error:0.100186\u001b[0m\n",
      "\u001b[34m[08:12:35] src/tree/updater_prune.cc:74: tree pruning end, 1 roots, 10 extra nodes, 14 pruned nodes, max_depth=5\u001b[0m\n",
      "\u001b[34m[27]#011train-error:0.100429#011validation-error:0.100429\u001b[0m\n",
      "\u001b[34m[08:12:35] src/tree/updater_prune.cc:74: tree pruning end, 1 roots, 6 extra nodes, 18 pruned nodes, max_depth=3\u001b[0m\n",
      "\u001b[34m[28]#011train-error:0.100267#011validation-error:0.100267\u001b[0m\n",
      "\u001b[34m[08:12:35] src/tree/updater_prune.cc:74: tree pruning end, 1 roots, 14 extra nodes, 12 pruned nodes, max_depth=5\u001b[0m\n",
      "\u001b[34m[29]#011train-error:0.099377#011validation-error:0.099377\u001b[0m\n",
      "\u001b[34m[08:12:35] src/tree/updater_prune.cc:74: tree pruning end, 1 roots, 18 extra nodes, 18 pruned nodes, max_depth=5\u001b[0m\n",
      "\u001b[34m[30]#011train-error:0.099377#011validation-error:0.099377\u001b[0m\n",
      "\u001b[34m[08:12:35] src/tree/updater_prune.cc:74: tree pruning end, 1 roots, 10 extra nodes, 14 pruned nodes, max_depth=5\u001b[0m\n",
      "\u001b[34m[31]#011train-error:0.099296#011validation-error:0.099296\u001b[0m\n",
      "\u001b[34m[08:12:35] src/tree/updater_prune.cc:74: tree pruning end, 1 roots, 14 extra nodes, 24 pruned nodes, max_depth=5\u001b[0m\n",
      "\u001b[34m[32]#011train-error:0.099134#011validation-error:0.099134\u001b[0m\n",
      "\u001b[34m[08:12:35] src/tree/updater_prune.cc:74: tree pruning end, 1 roots, 14 extra nodes, 12 pruned nodes, max_depth=5\u001b[0m\n",
      "\u001b[34m[33]#011train-error:0.099053#011validation-error:0.099053\u001b[0m\n",
      "\u001b[34m[08:12:35] src/tree/updater_prune.cc:74: tree pruning end, 1 roots, 12 extra nodes, 20 pruned nodes, max_depth=5\u001b[0m\n",
      "\u001b[34m[34]#011train-error:0.098972#011validation-error:0.098972\u001b[0m\n",
      "\u001b[34m[08:12:35] src/tree/updater_prune.cc:74: tree pruning end, 1 roots, 8 extra nodes, 10 pruned nodes, max_depth=4\u001b[0m\n",
      "\u001b[34m[35]#011train-error:0.099053#011validation-error:0.099053\u001b[0m\n",
      "\u001b[34m[08:12:35] src/tree/updater_prune.cc:74: tree pruning end, 1 roots, 10 extra nodes, 28 pruned nodes, max_depth=3\u001b[0m\n",
      "\u001b[34m[36]#011train-error:0.098729#011validation-error:0.098729\u001b[0m\n",
      "\u001b[34m[08:12:35] src/tree/updater_prune.cc:74: tree pruning end, 1 roots, 12 extra nodes, 2 pruned nodes, max_depth=5\u001b[0m\n",
      "\u001b[34m[37]#011train-error:0.099053#011validation-error:0.099053\u001b[0m\n",
      "\u001b[34m[08:12:35] src/tree/updater_prune.cc:74: tree pruning end, 1 roots, 12 extra nodes, 26 pruned nodes, max_depth=5\u001b[0m\n",
      "\u001b[34m[38]#011train-error:0.098729#011validation-error:0.098729\u001b[0m\n",
      "\u001b[34m[08:12:35] src/tree/updater_prune.cc:74: tree pruning end, 1 roots, 12 extra nodes, 8 pruned nodes, max_depth=5\u001b[0m\n",
      "\u001b[34m[39]#011train-error:0.09881#011validation-error:0.09881\u001b[0m\n",
      "\u001b[34m[08:12:35] src/tree/updater_prune.cc:74: tree pruning end, 1 roots, 8 extra nodes, 18 pruned nodes, max_depth=4\u001b[0m\n",
      "\u001b[34m[40]#011train-error:0.098729#011validation-error:0.098729\u001b[0m\n",
      "\u001b[34m[08:12:35] src/tree/updater_prune.cc:74: tree pruning end, 1 roots, 18 extra nodes, 14 pruned nodes, max_depth=5\u001b[0m\n",
      "\u001b[34m[41]#011train-error:0.098244#011validation-error:0.098244\u001b[0m\n",
      "\u001b[34m[08:12:35] src/tree/updater_prune.cc:74: tree pruning end, 1 roots, 20 extra nodes, 14 pruned nodes, max_depth=5\u001b[0m\n",
      "\u001b[34m[42]#011train-error:0.098082#011validation-error:0.098082\u001b[0m\n",
      "\u001b[34m[08:12:35] src/tree/updater_prune.cc:74: tree pruning end, 1 roots, 20 extra nodes, 20 pruned nodes, max_depth=5\u001b[0m\n",
      "\u001b[34m[43]#011train-error:0.098406#011validation-error:0.098406\u001b[0m\n",
      "\u001b[34m[08:12:35] src/tree/updater_prune.cc:74: tree pruning end, 1 roots, 18 extra nodes, 8 pruned nodes, max_depth=5\u001b[0m\n",
      "\u001b[34m[44]#011train-error:0.098406#011validation-error:0.098406\u001b[0m\n",
      "\u001b[34m[08:12:35] src/tree/updater_prune.cc:74: tree pruning end, 1 roots, 10 extra nodes, 18 pruned nodes, max_depth=4\u001b[0m\n",
      "\u001b[34m[45]#011train-error:0.098163#011validation-error:0.098163\u001b[0m\n",
      "\u001b[34m[08:12:35] src/tree/updater_prune.cc:74: tree pruning end, 1 roots, 2 extra nodes, 24 pruned nodes, max_depth=1\u001b[0m\n",
      "\u001b[34m[46]#011train-error:0.098082#011validation-error:0.098082\u001b[0m\n",
      "\u001b[34m[08:12:35] src/tree/updater_prune.cc:74: tree pruning end, 1 roots, 18 extra nodes, 14 pruned nodes, max_depth=5\u001b[0m\n",
      "\u001b[34m[47]#011train-error:0.098001#011validation-error:0.098001\u001b[0m\n",
      "\u001b[34m[08:12:35] src/tree/updater_prune.cc:74: tree pruning end, 1 roots, 10 extra nodes, 22 pruned nodes, max_depth=5\u001b[0m\n",
      "\u001b[34m[48]#011train-error:0.098001#011validation-error:0.098001\u001b[0m\n",
      "\u001b[34m[08:12:35] src/tree/updater_prune.cc:74: tree pruning end, 1 roots, 18 extra nodes, 16 pruned nodes, max_depth=5\u001b[0m\n",
      "\u001b[34m[49]#011train-error:0.09792#011validation-error:0.09792\u001b[0m\n",
      "\n",
      "2023-09-22 08:12:55 Completed - Training job completed\n",
      "Training seconds: 77\n",
      "Billable seconds: 22\n",
      "Managed Spot Training savings: 71.4%\n"
     ]
    }
   ],
   "source": [
    "estimator.fit({'train': s3_input_train,'validation': s3_input_test})"
   ]
  },
  {
   "cell_type": "markdown",
   "id": "3432392c",
   "metadata": {},
   "source": []
  },
  {
   "cell_type": "code",
   "execution_count": null,
   "id": "67546a3c",
   "metadata": {},
   "outputs": [],
   "source": []
  },
  {
   "cell_type": "code",
   "execution_count": null,
   "id": "5bb434ef",
   "metadata": {},
   "outputs": [],
   "source": []
  },
  {
   "cell_type": "code",
   "execution_count": null,
   "id": "4ce1f6f5",
   "metadata": {},
   "outputs": [],
   "source": []
  }
 ],
 "metadata": {
  "kernelspec": {
   "display_name": "conda_python3",
   "language": "python",
   "name": "conda_python3"
  },
  "language_info": {
   "codemirror_mode": {
    "name": "ipython",
    "version": 3
   },
   "file_extension": ".py",
   "mimetype": "text/x-python",
   "name": "python",
   "nbconvert_exporter": "python",
   "pygments_lexer": "ipython3",
   "version": "3.10.12"
  }
 },
 "nbformat": 4,
 "nbformat_minor": 5
}
